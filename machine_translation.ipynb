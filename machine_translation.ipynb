{
 "cells": [
  {
   "cell_type": "markdown",
   "metadata": {
    "collapsed": true
   },
   "source": [
    "# Artificial Intelligence Nanodegree\n",
    "## Machine Translation Project\n",
    "In this notebook, sections that end with **'(IMPLEMENTATION)'** in the header indicate that the following blocks of code will require additional functionality which you must provide. Please be sure to read the instructions carefully!\n",
    "\n",
    "## Introduction\n",
    "In this notebook, you will build a deep neural network that functions as part of an end-to-end machine translation pipeline. Your completed pipeline will accept English text as input and return the French translation.\n",
    "\n",
    "- **Preprocess** - You'll convert text to sequence of integers.\n",
    "- **Models** Create models which accepts a sequence of integers as input and returns a probability distribution over possible translations. After learning about the basic types of neural networks that are often used for machine translation, you will engage in your own investigations, to design your own model!\n",
    "- **Prediction** Run the model on English text."
   ]
  },
  {
   "cell_type": "code",
   "execution_count": 1,
   "metadata": {},
   "outputs": [],
   "source": [
    "%load_ext autoreload\n",
    "%aimport helper, tests\n",
    "%autoreload 1"
   ]
  },
  {
   "cell_type": "code",
   "execution_count": 15,
   "metadata": {},
   "outputs": [],
   "source": [
    "import collections\n",
    "\n",
    "import helper\n",
    "import numpy as np\n",
    "import project_tests as tests\n",
    "\n",
    "from keras.preprocessing.text import Tokenizer\n",
    "from keras.preprocessing.sequence import pad_sequences\n",
    "from keras.models import Model\n",
    "from keras.layers import GRU, Input, Dense, TimeDistributed, Activation, RepeatVector, Bidirectional, Dropout\n",
    "from keras.layers.embeddings import Embedding\n",
    "from keras.optimizers import Adam\n",
    "from keras.losses import sparse_categorical_crossentropy"
   ]
  },
  {
   "cell_type": "markdown",
   "metadata": {},
   "source": [
    "### Verify access to the GPU\n",
    "The following test applies only if you expect to be using a GPU, e.g., while running in a Udacity Workspace or using an AWS instance with GPU support. Run the next cell, and verify that the device_type is \"GPU\".\n",
    "- If the device is not GPU & you are running from a Udacity Workspace, then save your workspace with the icon at the top, then click \"enable\" at the bottom of the workspace.\n",
    "- If the device is not GPU & you are running from an AWS instance, then refer to the cloud computing instructions in the classroom to verify your setup steps."
   ]
  },
  {
   "cell_type": "code",
   "execution_count": 3,
   "metadata": {},
   "outputs": [
    {
     "name": "stdout",
     "output_type": "stream",
     "text": [
      "[name: \"/cpu:0\"\n",
      "device_type: \"CPU\"\n",
      "memory_limit: 268435456\n",
      "locality {\n",
      "}\n",
      "incarnation: 15992904888560757500\n",
      ", name: \"/gpu:0\"\n",
      "device_type: \"GPU\"\n",
      "memory_limit: 357564416\n",
      "locality {\n",
      "  bus_id: 1\n",
      "}\n",
      "incarnation: 16137360452278271474\n",
      "physical_device_desc: \"device: 0, name: Tesla K80, pci bus id: 0000:00:04.0\"\n",
      "]\n"
     ]
    }
   ],
   "source": [
    "from tensorflow.python.client import device_lib\n",
    "print(device_lib.list_local_devices())"
   ]
  },
  {
   "cell_type": "markdown",
   "metadata": {},
   "source": [
    "## Dataset\n",
    "We begin by investigating the dataset that will be used to train and evaluate your pipeline.  The most common datasets used for machine translation are from [WMT](http://www.statmt.org/).  However, that will take a long time to train a neural network on.  We'll be using a dataset we created for this project that contains a small vocabulary.  You'll be able to train your model in a reasonable time with this dataset.\n",
    "### Load Data\n",
    "The data is located in `data/small_vocab_en` and `data/small_vocab_fr`. The `small_vocab_en` file contains English sentences with their French translations in the `small_vocab_fr` file. Load the English and French data from these files from running the cell below."
   ]
  },
  {
   "cell_type": "code",
   "execution_count": 4,
   "metadata": {},
   "outputs": [
    {
     "name": "stdout",
     "output_type": "stream",
     "text": [
      "Dataset Loaded\n"
     ]
    }
   ],
   "source": [
    "# Load English data\n",
    "english_sentences = helper.load_data('data/small_vocab_en')\n",
    "# Load French data\n",
    "french_sentences = helper.load_data('data/small_vocab_fr')\n",
    "\n",
    "print('Dataset Loaded')"
   ]
  },
  {
   "cell_type": "markdown",
   "metadata": {},
   "source": [
    "### Files\n",
    "Each line in `small_vocab_en` contains an English sentence with the respective translation in each line of `small_vocab_fr`.  View the first two lines from each file."
   ]
  },
  {
   "cell_type": "code",
   "execution_count": 5,
   "metadata": {},
   "outputs": [
    {
     "name": "stdout",
     "output_type": "stream",
     "text": [
      "small_vocab_en Line 1:  new jersey is sometimes quiet during autumn , and it is snowy in april .\n",
      "small_vocab_fr Line 1:  new jersey est parfois calme pendant l' automne , et il est neigeux en avril .\n",
      "small_vocab_en Line 2:  the united states is usually chilly during july , and it is usually freezing in november .\n",
      "small_vocab_fr Line 2:  les états-unis est généralement froid en juillet , et il gèle habituellement en novembre .\n"
     ]
    }
   ],
   "source": [
    "for sample_i in range(2):\n",
    "    print('small_vocab_en Line {}:  {}'.format(sample_i + 1, english_sentences[sample_i]))\n",
    "    print('small_vocab_fr Line {}:  {}'.format(sample_i + 1, french_sentences[sample_i]))"
   ]
  },
  {
   "cell_type": "markdown",
   "metadata": {},
   "source": [
    "From looking at the sentences, you can see they have been preprocessed already.  The puncuations have been delimited using spaces. All the text have been converted to lowercase.  This should save you some time, but the text requires more preprocessing.\n",
    "### Vocabulary\n",
    "The complexity of the problem is determined by the complexity of the vocabulary.  A more complex vocabulary is a more complex problem.  Let's look at the complexity of the dataset we'll be working with."
   ]
  },
  {
   "cell_type": "code",
   "execution_count": 7,
   "metadata": {},
   "outputs": [
    {
     "name": "stdout",
     "output_type": "stream",
     "text": [
      "1823250 English words.\n",
      "227 unique English words.\n",
      "10 Most common words in the English dataset:\n",
      "\"is\" \",\" \".\" \"in\" \"it\" \"during\" \"the\" \"but\" \"and\" \"sometimes\"\n",
      "\n",
      "1961295 French words.\n",
      "355 unique French words.\n",
      "10 Most common words in the French dataset:\n",
      "\"est\" \".\" \",\" \"en\" \"il\" \"les\" \"mais\" \"et\" \"la\" \"parfois\"\n"
     ]
    }
   ],
   "source": [
    "english_words_counter = collections.Counter([word for sentence in english_sentences for word in sentence.split()])\n",
    "french_words_counter = collections.Counter([word for sentence in french_sentences for word in sentence.split()])\n",
    "\n",
    "print('{} English words.'.format(len([word for sentence in english_sentences for word in sentence.split()])))\n",
    "print('{} unique English words.'.format(len(english_words_counter)))\n",
    "print('10 Most common words in the English dataset:')\n",
    "print('\"' + '\" \"'.join(list(zip(*english_words_counter.most_common(10)))[0]) + '\"')\n",
    "print()\n",
    "print('{} French words.'.format(len([word for sentence in french_sentences for word in sentence.split()])))\n",
    "print('{} unique French words.'.format(len(french_words_counter)))\n",
    "print('10 Most common words in the French dataset:')\n",
    "print('\"' + '\" \"'.join(list(zip(*french_words_counter.most_common(10)))[0]) + '\"')"
   ]
  },
  {
   "cell_type": "markdown",
   "metadata": {},
   "source": [
    "For comparison, _Alice's Adventures in Wonderland_ contains 2,766 unique words of a total of 15,500 words.\n",
    "## Preprocess\n",
    "For this project, you won't use text data as input to your model. Instead, you'll convert the text into sequences of integers using the following preprocess methods:\n",
    "1. Tokenize the words into ids\n",
    "2. Add padding to make all the sequences the same length.\n",
    "\n",
    "Time to start preprocessing the data...\n",
    "### Tokenize (IMPLEMENTATION)\n",
    "For a neural network to predict on text data, it first has to be turned into data it can understand. Text data like \"dog\" is a sequence of ASCII character encodings.  Since a neural network is a series of multiplication and addition operations, the input data needs to be number(s).\n",
    "\n",
    "We can turn each character into a number or each word into a number.  These are called character and word ids, respectively.  Character ids are used for character level models that generate text predictions for each character.  A word level model uses word ids that generate text predictions for each word.  Word level models tend to learn better, since they are lower in complexity, so we'll use those.\n",
    "\n",
    "Turn each sentence into a sequence of words ids using Keras's [`Tokenizer`](https://keras.io/preprocessing/text/#tokenizer) function. Use this function to tokenize `english_sentences` and `french_sentences` in the cell below.\n",
    "\n",
    "Running the cell will run `tokenize` on sample data and show output for debugging."
   ]
  },
  {
   "cell_type": "code",
   "execution_count": 12,
   "metadata": {},
   "outputs": [],
   "source": [
    "?Tokenizer.fit_on_texts\n"
   ]
  },
  {
   "cell_type": "code",
   "execution_count": 6,
   "metadata": {},
   "outputs": [
    {
     "name": "stdout",
     "output_type": "stream",
     "text": [
      "{'the': 1, 'quick': 2, 'a': 3, 'brown': 4, 'fox': 5, 'jumps': 6, 'over': 7, 'lazy': 8, 'dog': 9, 'by': 10, 'jove': 11, 'my': 12, 'study': 13, 'of': 14, 'lexicography': 15, 'won': 16, 'prize': 17, 'this': 18, 'is': 19, 'short': 20, 'sentence': 21}\n",
      "\n",
      "Sequence 1 in x\n",
      "  Input:  The quick brown fox jumps over the lazy dog .\n",
      "  Output: [1, 2, 4, 5, 6, 7, 1, 8, 9]\n",
      "Sequence 2 in x\n",
      "  Input:  By Jove , my quick study of lexicography won a prize .\n",
      "  Output: [10, 11, 12, 2, 13, 14, 15, 16, 3, 17]\n",
      "Sequence 3 in x\n",
      "  Input:  This is a short sentence .\n",
      "  Output: [18, 19, 3, 20, 21]\n"
     ]
    }
   ],
   "source": [
    "def tokenize(x):\n",
    "    \"\"\"\n",
    "    Tokenize x\n",
    "    :param x: List of sentences/strings to be tokenized\n",
    "    :return: Tuple of (tokenized x data, tokenizer used to tokenize x)\n",
    "    \"\"\"\n",
    "    # TODO: Implement\n",
    "    x_tk = Tokenizer()\n",
    "    x_tk.fit_on_texts(x)\n",
    "\n",
    "    return x_tk.texts_to_sequences(x), x_tk\n",
    "\n",
    "tests.test_tokenize(tokenize)\n",
    "\n",
    "# Tokenize Example output\n",
    "text_sentences = [\n",
    "    'The quick brown fox jumps over the lazy dog .',\n",
    "    'By Jove , my quick study of lexicography won a prize .',\n",
    "    'This is a short sentence .']\n",
    "text_tokenized, text_tokenizer = tokenize(text_sentences)\n",
    "print(text_tokenizer.word_index)\n",
    "print()\n",
    "for sample_i, (sent, token_sent) in enumerate(zip(text_sentences, text_tokenized)):\n",
    "    print('Sequence {} in x'.format(sample_i + 1))\n",
    "    print('  Input:  {}'.format(sent))\n",
    "    print('  Output: {}'.format(token_sent))\n",
    "    "
   ]
  },
  {
   "cell_type": "code",
   "execution_count": 22,
   "metadata": {},
   "outputs": [],
   "source": [
    "#english_sentences_tk, english_tokenizer = tokenize(english_sentences)\n",
    "#french_sentences_tk, french_tokenizer = tokenize(french_sentences)\n",
    "print(\"# english sentences\", len(english_sentences_tk))\n",
    "eng_maxlen = max([len(s) for s in english_sentences_tk])\n",
    "print(\"english maxlen of tokens seqs\", eng_maxlen)\n",
    "print(\"# french sentences\", len(french_sentences_tk))\n",
    "fr_maxlen = max([len(s) for s in french_sentences_tk])\n",
    "print(\"french maxlen of tokens seqs\", fr_maxlen)"
   ]
  },
  {
   "cell_type": "markdown",
   "metadata": {},
   "source": [
    "### Padding (IMPLEMENTATION)\n",
    "When batching the sequence of word ids together, each sequence needs to be the same length.  Since sentences are dynamic in length, we can add padding to the end of the sequences to make them the same length.\n",
    "\n",
    "Make sure all the English sequences have the same length and all the French sequences have the same length by adding padding to the **end** of each sequence using Keras's [`pad_sequences`](https://keras.io/preprocessing/sequence/#pad_sequences) function."
   ]
  },
  {
   "cell_type": "code",
   "execution_count": 9,
   "metadata": {},
   "outputs": [],
   "source": [
    "?pad_sequences # padding='pre'"
   ]
  },
  {
   "cell_type": "code",
   "execution_count": 7,
   "metadata": {},
   "outputs": [
    {
     "name": "stdout",
     "output_type": "stream",
     "text": [
      "Sequence 1 in x\n",
      "  Input:  [1 2 4 5 6 7 1 8 9]\n",
      "  Output: [1 2 4 5 6 7 1 8 9 0]\n",
      "Sequence 2 in x\n",
      "  Input:  [10 11 12  2 13 14 15 16  3 17]\n",
      "  Output: [10 11 12  2 13 14 15 16  3 17]\n",
      "Sequence 3 in x\n",
      "  Input:  [18 19  3 20 21]\n",
      "  Output: [18 19  3 20 21  0  0  0  0  0]\n"
     ]
    }
   ],
   "source": [
    "def pad(x, length=None):\n",
    "    \"\"\"\n",
    "    Pad x\n",
    "    :param x: List of sequences.\n",
    "    :param length: Length to pad the sequence to.  If None, use length of longest sequence in x.\n",
    "    :return: Padded numpy array of sequences\n",
    "    \"\"\"\n",
    "    # TODO: Implement\n",
    "    if not length: length = max([len(s) for s in x])\n",
    "    return pad_sequences(x, maxlen=length ,padding='post')\n",
    "\n",
    "tests.test_pad(pad)\n",
    "\n",
    "# Pad Tokenized output\n",
    "test_pad = pad(text_tokenized)\n",
    "for sample_i, (token_sent, pad_sent) in enumerate(zip(text_tokenized, test_pad)):\n",
    "    print('Sequence {} in x'.format(sample_i + 1))\n",
    "    print('  Input:  {}'.format(np.array(token_sent)))\n",
    "    print('  Output: {}'.format(pad_sent))"
   ]
  },
  {
   "cell_type": "markdown",
   "metadata": {},
   "source": [
    "### Preprocess Pipeline\n",
    "Your focus for this project is to build neural network architecture, so we won't ask you to create a preprocess pipeline.  Instead, we've provided you with the implementation of the `preprocess` function."
   ]
  },
  {
   "cell_type": "code",
   "execution_count": 8,
   "metadata": {},
   "outputs": [
    {
     "name": "stdout",
     "output_type": "stream",
     "text": [
      "Data Preprocessed\n",
      "Max English sentence length: 15\n",
      "Max French sentence length: 21\n",
      "English vocabulary size: 199\n",
      "French vocabulary size: 344\n"
     ]
    }
   ],
   "source": [
    "def preprocess(x, y):\n",
    "    \"\"\"\n",
    "    Preprocess x and y\n",
    "    :param x: Feature List of sentences\n",
    "    :param y: Label List of sentences\n",
    "    :return: Tuple of (Preprocessed x, Preprocessed y, x tokenizer, y tokenizer)\n",
    "    \"\"\"\n",
    "    preprocess_x, x_tk = tokenize(x)\n",
    "    preprocess_y, y_tk = tokenize(y)\n",
    "\n",
    "    preprocess_x = pad(preprocess_x)\n",
    "    preprocess_y = pad(preprocess_y)\n",
    "\n",
    "    # Keras's sparse_categorical_crossentropy function requires the labels to be in 3 dimensions\n",
    "    preprocess_y = preprocess_y.reshape(*preprocess_y.shape, 1)\n",
    "\n",
    "    return preprocess_x, preprocess_y, x_tk, y_tk\n",
    "\n",
    "preproc_english_sentences, preproc_french_sentences, english_tokenizer, french_tokenizer =\\\n",
    "    preprocess(english_sentences, french_sentences)\n",
    "    \n",
    "max_english_sequence_length = preproc_english_sentences.shape[1]\n",
    "max_french_sequence_length = preproc_french_sentences.shape[1]\n",
    "english_vocab_size = len(english_tokenizer.word_index)\n",
    "french_vocab_size = len(french_tokenizer.word_index)\n",
    "\n",
    "print('Data Preprocessed')\n",
    "print(\"Max English sentence length:\", max_english_sequence_length)\n",
    "print(\"Max French sentence length:\", max_french_sequence_length)\n",
    "print(\"English vocabulary size:\", english_vocab_size)\n",
    "print(\"French vocabulary size:\", french_vocab_size)"
   ]
  },
  {
   "cell_type": "markdown",
   "metadata": {},
   "source": [
    "## Models\n",
    "In this section, you will experiment with various neural network architectures.\n",
    "You will begin by training four relatively simple architectures.\n",
    "- Model 1 is a simple RNN\n",
    "- Model 2 is a RNN with Embedding\n",
    "- Model 3 is a Bidirectional RNN\n",
    "- Model 4 is an Encoder-Decoder RNN\n",
    "\n",
    "After experimenting with the four simple architectures, you will construct a deeper architecture that is designed to outperform all four models.\n",
    "### Ids Back to Text\n",
    "The neural network will be translating the input to words ids, which isn't the final form we want.  We want the French translation.  The function `logits_to_text` will bridge the gab between the logits from the neural network to the French translation.  You'll be using this function to better understand the output of the neural network."
   ]
  },
  {
   "cell_type": "code",
   "execution_count": 11,
   "metadata": {},
   "outputs": [
    {
     "data": {
      "text/plain": [
       "344"
      ]
     },
     "execution_count": 11,
     "metadata": {},
     "output_type": "execute_result"
    }
   ],
   "source": [
    "max(french_tokenizer.word_index.values())"
   ]
  },
  {
   "cell_type": "code",
   "execution_count": 9,
   "metadata": {},
   "outputs": [
    {
     "name": "stdout",
     "output_type": "stream",
     "text": [
      "`logits_to_text` function loaded.\n"
     ]
    }
   ],
   "source": [
    "def logits_to_text(logits, tokenizer):\n",
    "    \"\"\"\n",
    "    Turn logits from a neural network into text using the tokenizer\n",
    "    :param logits: Logits from a neural network\n",
    "    :param tokenizer: Keras Tokenizer fit on the labels\n",
    "    :return: String that represents the text of the logits\n",
    "    \"\"\"\n",
    "    index_to_words = {idx: word for word, idx in tokenizer.word_index.items()}\n",
    "    index_to_words[0] = '<PAD>'\n",
    "\n",
    "    return ' '.join([index_to_words[prediction] for prediction in np.argmax(logits, 1)])\n",
    "\n",
    "print('`logits_to_text` function loaded.')"
   ]
  },
  {
   "cell_type": "markdown",
   "metadata": {},
   "source": [
    "### Model 1: RNN (IMPLEMENTATION)\n",
    "![RNN](images/rnn.png)\n",
    "A basic RNN model is a good baseline for sequence data.  In this model, you'll build a RNN that translates English to French."
   ]
  },
  {
   "cell_type": "code",
   "execution_count": 20,
   "metadata": {},
   "outputs": [],
   "source": [
    "def simple_model(input_shape, output_sequence_length, english_vocab_size, french_vocab_size):\n",
    "    \"\"\"\n",
    "    Build and train a basic RNN on x and y\n",
    "    :param input_shape: Tuple of input shape\n",
    "    :param output_sequence_length: Length of output sequence\n",
    "    :param english_vocab_size: Number of unique English words in the dataset\n",
    "    :param french_vocab_size: Number of unique French words in the dataset\n",
    "    :return: Keras model built, but not trained\n",
    "    \"\"\"\n",
    "    # TODO: Build the layers\n",
    "    learning_rate = 1e-3\n",
    "    GRU_output_size = 2**9 #max(french_vocab_size, english_vocab_size) + 1\n",
    "    \n",
    "    inputs = Input(shape=input_shape[1:])\n",
    "    x = GRU(GRU_output_size, return_sequences=True, unroll=True)(inputs)\n",
    "    ## testing some additional dense layers, adds few % of accuracy\n",
    "    # x = Dropout(0.25)(x)\n",
    "    # dense_1 = Dense(GSR_output_size, activation='relu')\n",
    "    # x = TimeDistributed(dense_1)(x)\n",
    "    # dense_2 = Dense(64, activation='relu')\n",
    "    # x = TimeDistributed(dense_2)(x)\n",
    "    logit = Dense(french_vocab_size, activation='softmax')\n",
    "    outputs = TimeDistributed(logit)(x)\n",
    "    \n",
    "    model = Model(inputs, outputs)\n",
    "    model.compile(loss=sparse_categorical_crossentropy,\n",
    "                  optimizer=Adam(learning_rate),\n",
    "                  metrics=['accuracy'])\n",
    "    return model\n",
    "tests.test_simple_model(simple_model)"
   ]
  },
  {
   "cell_type": "code",
   "execution_count": 17,
   "metadata": {},
   "outputs": [
    {
     "name": "stdout",
     "output_type": "stream",
     "text": [
      "(137861, 21, 1)\n"
     ]
    }
   ],
   "source": [
    "# Reshaping the input to work with a basic RNN\n",
    "tmp_x = pad(preproc_english_sentences, max_french_sequence_length)\n",
    "tmp_x = tmp_x[:,:,np.newaxis]\n",
    "print(tmp_x.shape)"
   ]
  },
  {
   "cell_type": "code",
   "execution_count": 18,
   "metadata": {},
   "outputs": [
    {
     "name": "stdout",
     "output_type": "stream",
     "text": [
      "_________________________________________________________________\n",
      "Layer (type)                 Output Shape              Param #   \n",
      "=================================================================\n",
      "input_3 (InputLayer)         (None, 21, 1)             0         \n",
      "_________________________________________________________________\n",
      "gru_3 (GRU)                  (None, 21, 512)           789504    \n",
      "_________________________________________________________________\n",
      "time_distributed_3 (TimeDist (None, 21, 345)           176985    \n",
      "=================================================================\n",
      "Total params: 966,489\n",
      "Trainable params: 966,489\n",
      "Non-trainable params: 0\n",
      "_________________________________________________________________\n",
      "None\n"
     ]
    }
   ],
   "source": [
    "# Train the neural network\n",
    "simple_rnn_model = simple_model(\n",
    "    tmp_x.shape,\n",
    "    max_french_sequence_length,\n",
    "    english_vocab_size+1,\n",
    "    french_vocab_size+1)\n",
    "print(simple_rnn_model.summary())"
   ]
  },
  {
   "cell_type": "code",
   "execution_count": null,
   "metadata": {},
   "outputs": [],
   "source": [
    "from workspace_utils import active_session\n",
    "with active_session():\n",
    "    simple_rnn_model.fit(tmp_x, preproc_french_sentences, batch_size=1024, epochs=10, validation_split=0.15)\n",
    "\n",
    "# Print prediction(s)\n",
    "word_lookup = {idx: w for w, idx in english_tokenizer.word_index.items()}\n",
    "word_lookup.update({0: '<PAD>'})\n",
    "print(' '.join([word_lookup[i[0]] for i in tmp_x[:1][0]]))\n",
    "print(logits_to_text(simple_rnn_model.predict(tmp_x[:1])[0], french_tokenizer))"
   ]
  },
  {
   "cell_type": "code",
   "execution_count": 33,
   "metadata": {},
   "outputs": [
    {
     "name": "stdout",
     "output_type": "stream",
     "text": [
      "Train on 117181 samples, validate on 20680 samples\n",
      "Epoch 1/10\n",
      "117181/117181 [==============================] - 26s 221us/step - loss: 2.2046 - acc: 0.5239 - val_loss: 1.5620 - val_acc: 0.5925\n",
      "Epoch 2/10\n",
      "117181/117181 [==============================] - 25s 210us/step - loss: 1.4180 - acc: 0.6153 - val_loss: 1.3090 - val_acc: 0.6308\n",
      "Epoch 3/10\n",
      "117181/117181 [==============================] - 25s 210us/step - loss: 1.2399 - acc: 0.6404 - val_loss: 1.1734 - val_acc: 0.6528\n",
      "Epoch 4/10\n",
      "117181/117181 [==============================] - 25s 210us/step - loss: 1.1289 - acc: 0.6603 - val_loss: 1.0822 - val_acc: 0.6696\n",
      "Epoch 5/10\n",
      "117181/117181 [==============================] - 25s 210us/step - loss: 1.0536 - acc: 0.6727 - val_loss: 1.0225 - val_acc: 0.6788\n",
      "Epoch 6/10\n",
      "117181/117181 [==============================] - 25s 210us/step - loss: 0.9993 - acc: 0.6807 - val_loss: 0.9793 - val_acc: 0.6823\n",
      "Epoch 7/10\n",
      "117181/117181 [==============================] - 25s 210us/step - loss: 0.9555 - acc: 0.6884 - val_loss: 0.9343 - val_acc: 0.6884\n",
      "Epoch 8/10\n",
      "117181/117181 [==============================] - 25s 210us/step - loss: 0.9187 - acc: 0.6958 - val_loss: 0.9098 - val_acc: 0.6951\n",
      "Epoch 9/10\n",
      "117181/117181 [==============================] - 25s 210us/step - loss: 0.8858 - acc: 0.7036 - val_loss: 0.8691 - val_acc: 0.7060\n",
      "Epoch 10/10\n",
      "117181/117181 [==============================] - 25s 212us/step - loss: 0.8507 - acc: 0.7146 - val_loss: 0.8281 - val_acc: 0.7274\n",
      "new jersey is sometimes quiet during autumn and it is snowy in april <PAD> <PAD> <PAD> <PAD> <PAD> <PAD> <PAD> <PAD>\n",
      "new jersey est parfois calme en mois de il et il est en en <PAD> <PAD> <PAD> <PAD> <PAD> <PAD> <PAD>\n"
     ]
    }
   ],
   "source": [
    "# # with GRU output size = 512 + logit"
   ]
  },
  {
   "cell_type": "code",
   "execution_count": 30,
   "metadata": {},
   "outputs": [
    {
     "name": "stdout",
     "output_type": "stream",
     "text": [
      "Train on 117181 samples, validate on 20680 samples\n",
      "Epoch 1/10\n",
      "117181/117181 [==============================] - 30s 259us/step - loss: 2.1564 - acc: 0.5211 - val_loss: 1.4612 - val_acc: 0.6087\n",
      "Epoch 2/10\n",
      "117181/117181 [==============================] - 29s 247us/step - loss: 1.3552 - acc: 0.6131 - val_loss: 1.2215 - val_acc: 0.6353\n",
      "Epoch 3/10\n",
      "117181/117181 [==============================] - 29s 248us/step - loss: 1.1774 - acc: 0.6448 - val_loss: 1.0744 - val_acc: 0.6761\n",
      "Epoch 4/10\n",
      "117181/117181 [==============================] - 29s 248us/step - loss: 1.0678 - acc: 0.6667 - val_loss: 0.9822 - val_acc: 0.6920\n",
      "Epoch 5/10\n",
      "117181/117181 [==============================] - 29s 248us/step - loss: 0.9995 - acc: 0.6792 - val_loss: 0.9229 - val_acc: 0.7022\n",
      "Epoch 6/10\n",
      "117181/117181 [==============================] - 29s 248us/step - loss: 0.9460 - acc: 0.6899 - val_loss: 0.8815 - val_acc: 0.7124\n",
      "Epoch 7/10\n",
      "117181/117181 [==============================] - 29s 248us/step - loss: 0.9020 - acc: 0.6989 - val_loss: 0.8538 - val_acc: 0.7157\n",
      "Epoch 8/10\n",
      "117181/117181 [==============================] - 29s 247us/step - loss: 0.8612 - acc: 0.7094 - val_loss: 0.7919 - val_acc: 0.7376\n",
      "Epoch 9/10\n",
      "117181/117181 [==============================] - 29s 249us/step - loss: 0.8177 - acc: 0.7252 - val_loss: 0.7355 - val_acc: 0.7617\n",
      "Epoch 10/10\n",
      "117181/117181 [==============================] - 29s 248us/step - loss: 0.7703 - acc: 0.7416 - val_loss: 0.7001 - val_acc: 0.7756\n",
      "new jersey is sometimes quiet during autumn and it is snowy in april <PAD> <PAD> <PAD> <PAD> <PAD> <PAD> <PAD> <PAD>\n",
      "new jersey est parfois calme en mois de il et il est est en avril <PAD> <PAD> <PAD> <PAD> <PAD> <PAD>\n"
     ]
    }
   ],
   "source": [
    "# with GRU output size = 512 + 0.25 drop out + dense layer to 512 + logit"
   ]
  },
  {
   "cell_type": "code",
   "execution_count": 14,
   "metadata": {},
   "outputs": [
    {
     "name": "stdout",
     "output_type": "stream",
     "text": [
      "Train on 117181 samples, validate on 20680 samples\n",
      "Epoch 1/10\n",
      "117181/117181 [==============================] - 20s 167us/step - loss: 2.3774 - acc: 0.5075 - val_loss: 1.6726 - val_acc: 0.5809\n",
      "Epoch 2/10\n",
      "117181/117181 [==============================] - 18s 150us/step - loss: 1.5076 - acc: 0.6023 - val_loss: 1.3958 - val_acc: 0.6152\n",
      "Epoch 3/10\n",
      "117181/117181 [==============================] - 18s 149us/step - loss: 1.3221 - acc: 0.6294 - val_loss: 1.2533 - val_acc: 0.6398\n",
      "Epoch 4/10\n",
      "117181/117181 [==============================] - 18s 150us/step - loss: 1.2060 - acc: 0.6498 - val_loss: 1.1630 - val_acc: 0.6568\n",
      "Epoch 5/10\n",
      "117181/117181 [==============================] - 18s 150us/step - loss: 1.1265 - acc: 0.6630 - val_loss: 1.0930 - val_acc: 0.6734\n",
      "Epoch 6/10\n",
      "117181/117181 [==============================] - 18s 150us/step - loss: 1.0672 - acc: 0.6721 - val_loss: 1.0473 - val_acc: 0.6789\n",
      "Epoch 7/10\n",
      "117181/117181 [==============================] - 18s 150us/step - loss: 1.0227 - acc: 0.6770 - val_loss: 0.9962 - val_acc: 0.6788\n",
      "Epoch 8/10\n",
      "117181/117181 [==============================] - 18s 150us/step - loss: 0.9820 - acc: 0.6841 - val_loss: 0.9593 - val_acc: 0.6879\n",
      "Epoch 9/10\n",
      "117181/117181 [==============================] - 18s 149us/step - loss: 0.9499 - acc: 0.6897 - val_loss: 0.9414 - val_acc: 0.6903\n",
      "Epoch 10/10\n",
      "117181/117181 [==============================] - 18s 150us/step - loss: 0.9197 - acc: 0.6958 - val_loss: 0.9082 - val_acc: 0.7025\n",
      "new jersey est parfois chaud en mois de il il il est en <PAD> <PAD> <PAD> <PAD> <PAD> <PAD> <PAD> <PAD>\n"
     ]
    }
   ],
   "source": [
    "# with 345 GSR output size + logit output"
   ]
  },
  {
   "cell_type": "code",
   "execution_count": null,
   "metadata": {},
   "outputs": [],
   "source": []
  },
  {
   "cell_type": "markdown",
   "metadata": {},
   "source": [
    "### Model 2: Embedding (IMPLEMENTATION)\n",
    "![RNN](images/embedding.png)\n",
    "You've turned the words into ids, but there's a better representation of a word.  This is called word embeddings.  An embedding is a vector representation of the word that is close to similar words in n-dimensional space, where the n represents the size of the embedding vectors.\n",
    "\n",
    "In this model, you'll create a RNN model using embedding."
   ]
  },
  {
   "cell_type": "code",
   "execution_count": 12,
   "metadata": {},
   "outputs": [],
   "source": [
    "def embed_model(input_shape, output_sequence_length, english_vocab_size, french_vocab_size):\n",
    "    \"\"\"\n",
    "    Build and train a RNN model using word embedding on x and y\n",
    "    :param input_shape: Tuple of input shape\n",
    "    :param output_sequence_length: Length of output sequence\n",
    "    :param english_vocab_size: Number of unique English words in the dataset\n",
    "    :param french_vocab_size: Number of unique French words in the dataset\n",
    "    :return: Keras model built, but not trained\n",
    "    \"\"\"\n",
    "    \n",
    "    # TODO: Implement\n",
    "    learning_rate = 1e-3\n",
    "    embedding_size = 512 # max(french_vocab_size, english_vocab_size) \n",
    "    GRU_size = 512 # max(french_vocab_size, english_vocab_size) \n",
    "    \n",
    "    inputs = Input(shape=input_shape[1:])\n",
    "    embedded = Embedding(english_vocab_size, embedding_size, input_length=input_shape[1])(inputs)\n",
    "    x = GRU(GRU_size, return_sequences=True, unroll=True)(embedded)\n",
    "    logit = Dense(french_vocab_size, activation='softmax')\n",
    "    outputs = TimeDistributed(logit)(x)\n",
    "    \n",
    "    model = Model(inputs, outputs)\n",
    "    model.compile(loss=sparse_categorical_crossentropy,\n",
    "                  optimizer=Adam(learning_rate),\n",
    "                  metrics=['accuracy'])\n",
    "    \n",
    "    return model\n",
    "\n",
    "tests.test_embed_model(embed_model)"
   ]
  },
  {
   "cell_type": "code",
   "execution_count": 14,
   "metadata": {},
   "outputs": [
    {
     "name": "stdout",
     "output_type": "stream",
     "text": [
      "(137861, 21)\n"
     ]
    }
   ],
   "source": [
    "# TODO: Reshape the input\n",
    "tmp_x = pad(preproc_english_sentences, max_french_sequence_length)\n",
    "# when imbedding is used, no new axis needs added to input, since embedding adds new axis\n",
    "#tmp_x = tmp_x[:,:,np.newaxis]\n",
    "print(tmp_x.shape)"
   ]
  },
  {
   "cell_type": "code",
   "execution_count": 15,
   "metadata": {},
   "outputs": [
    {
     "name": "stdout",
     "output_type": "stream",
     "text": [
      "_________________________________________________________________\n",
      "Layer (type)                 Output Shape              Param #   \n",
      "=================================================================\n",
      "input_2 (InputLayer)         (None, 21)                0         \n",
      "_________________________________________________________________\n",
      "embedding_2 (Embedding)      (None, 21, 512)           102400    \n",
      "_________________________________________________________________\n",
      "gru_2 (GRU)                  (None, 21, 512)           1574400   \n",
      "_________________________________________________________________\n",
      "time_distributed_2 (TimeDist (None, 21, 345)           176985    \n",
      "=================================================================\n",
      "Total params: 1,853,785\n",
      "Trainable params: 1,853,785\n",
      "Non-trainable params: 0\n",
      "_________________________________________________________________\n",
      "None\n"
     ]
    }
   ],
   "source": [
    "# TODO: Train the neural network\n",
    "\n",
    "# prepare model for training\n",
    "embedding_rnn_model = embed_model(\n",
    "    tmp_x.shape,\n",
    "    max_french_sequence_length,\n",
    "    english_vocab_size + 1,\n",
    "    french_vocab_size + 1)\n",
    "print(embedding_rnn_model.summary())"
   ]
  },
  {
   "cell_type": "code",
   "execution_count": 16,
   "metadata": {},
   "outputs": [
    {
     "name": "stdout",
     "output_type": "stream",
     "text": [
      "Train on 117181 samples, validate on 20680 samples\n",
      "Epoch 1/10\n",
      "117181/117181 [==============================] - 28s 238us/step - loss: 2.4606 - acc: 0.5304 - val_loss: 1.3074 - val_acc: 0.6927\n",
      "Epoch 2/10\n",
      "117181/117181 [==============================] - 26s 218us/step - loss: 0.8629 - acc: 0.7796 - val_loss: 0.5936 - val_acc: 0.8263\n",
      "Epoch 3/10\n",
      "117181/117181 [==============================] - 26s 220us/step - loss: 0.4807 - acc: 0.8540 - val_loss: 0.3884 - val_acc: 0.8777\n",
      "Epoch 4/10\n",
      "117181/117181 [==============================] - 26s 221us/step - loss: 0.3469 - acc: 0.8899 - val_loss: 0.3068 - val_acc: 0.9015\n",
      "Epoch 5/10\n",
      "117181/117181 [==============================] - 26s 221us/step - loss: 0.2876 - acc: 0.9064 - val_loss: 0.2705 - val_acc: 0.9111\n",
      "Epoch 6/10\n",
      "117181/117181 [==============================] - 26s 221us/step - loss: 0.2514 - acc: 0.9170 - val_loss: 0.2399 - val_acc: 0.9203\n",
      "Epoch 7/10\n",
      "117181/117181 [==============================] - 26s 221us/step - loss: 0.2283 - acc: 0.9237 - val_loss: 0.2201 - val_acc: 0.9256\n",
      "Epoch 8/10\n",
      "117181/117181 [==============================] - 26s 221us/step - loss: 0.2120 - acc: 0.9278 - val_loss: 0.2100 - val_acc: 0.9281\n",
      "Epoch 9/10\n",
      "117181/117181 [==============================] - 26s 221us/step - loss: 0.2019 - acc: 0.9305 - val_loss: 0.2033 - val_acc: 0.9298\n",
      "Epoch 10/10\n",
      "117181/117181 [==============================] - 26s 224us/step - loss: 0.1940 - acc: 0.9326 - val_loss: 0.1936 - val_acc: 0.9329\n",
      "new jersey is sometimes quiet during autumn and it is snowy in april <PAD> <PAD> <PAD> <PAD> <PAD> <PAD> <PAD> <PAD>\n",
      "new jersey est parfois calme en l' automne et il est neigeux en avril <PAD> <PAD> <PAD> <PAD> <PAD> <PAD> <PAD>\n"
     ]
    }
   ],
   "source": [
    "# Train model\n",
    "from workspace_utils import active_session\n",
    "with active_session():\n",
    "    embedding_rnn_model.fit(tmp_x, preproc_french_sentences, batch_size=1024, epochs=10, validation_split=0.15)\n",
    "\n",
    "# TODO: Print prediction(s)\n",
    "word_lookup = {idx: w for w, idx in english_tokenizer.word_index.items()}\n",
    "word_lookup.update({0: '<PAD>'})\n",
    "print(' '.join([word_lookup[i] for i in tmp_x[:1][0]]))\n",
    "print(logits_to_text(embedding_rnn_model.predict(tmp_x[:1])[0], french_tokenizer))"
   ]
  },
  {
   "cell_type": "code",
   "execution_count": null,
   "metadata": {},
   "outputs": [],
   "source": []
  },
  {
   "cell_type": "markdown",
   "metadata": {},
   "source": [
    "### Model 3: Bidirectional RNNs (IMPLEMENTATION)\n",
    "![RNN](images/bidirectional.png)\n",
    "One restriction of a RNN is that it can't see the future input, only the past.  This is where bidirectional recurrent neural networks come in.  They are able to see the future data."
   ]
  },
  {
   "cell_type": "code",
   "execution_count": 41,
   "metadata": {},
   "outputs": [
    {
     "name": "stdout",
     "output_type": "stream",
     "text": [
      "(137861, 21, 1)\n",
      "_________________________________________________________________\n",
      "Layer (type)                 Output Shape              Param #   \n",
      "=================================================================\n",
      "input_13 (InputLayer)        (None, 21, 1)             0         \n",
      "_________________________________________________________________\n",
      "bidirectional_11 (Bidirectio (None, 21, 1024)          1579008   \n",
      "_________________________________________________________________\n",
      "dropout_7 (Dropout)          (None, 21, 1024)          0         \n",
      "_________________________________________________________________\n",
      "time_distributed_9 (TimeDist (None, 21, 345)           353625    \n",
      "=================================================================\n",
      "Total params: 1,932,633\n",
      "Trainable params: 1,932,633\n",
      "Non-trainable params: 0\n",
      "_________________________________________________________________\n",
      "None\n"
     ]
    }
   ],
   "source": [
    "# TESTING BD MODEL WITH AND WITHOUT EMBEDDING LAYER \n",
    "# EMBEDDING TURNS OUT TO IMPROVE ACCURACY from tremendously to 98% from around 80% without embedding\n",
    "\n",
    "model_uses_embedding = False\n",
    "\n",
    "def bd_model(input_shape, output_sequence_length, english_vocab_size, french_vocab_size):\n",
    "    \"\"\"\n",
    "    Build and train a bidirectional RNN model on x and y\n",
    "    :param input_shape: Tuple of input shape\n",
    "    :param output_sequence_length: Length of output sequence\n",
    "    :param english_vocab_size: Number of unique English words in the dataset\n",
    "    :param french_vocab_size: Number of unique French words in the dataset\n",
    "    :return: Keras model built, but not trained\n",
    "    \"\"\"\n",
    "    # TODO: Implement\n",
    "    learning_rate = 2.5e-3\n",
    "    embedding_size = 512 \n",
    "    GRU_size = 512 \n",
    "    \n",
    "    inputs = Input(shape=input_shape[1:])\n",
    "    if model_uses_embedding:\n",
    "        x = Embedding(english_vocab_size, embedding_size, input_length=input_shape[1])(inputs)\n",
    "    else:\n",
    "        x = inputs \n",
    "    GRU_layer = GRU(GRU_size, return_sequences=True, unroll=True)\n",
    "    x = Bidirectional(GRU_layer)(x)\n",
    "    x = Dropout(0.3)(x)\n",
    "    logit = Dense(french_vocab_size, activation='softmax')\n",
    "    outputs = TimeDistributed(logit)(x)\n",
    "    \n",
    "    model = Model(inputs, outputs)\n",
    "    model.compile(loss=sparse_categorical_crossentropy,\n",
    "                  optimizer=Adam(learning_rate),\n",
    "                  metrics=['accuracy'])\n",
    " \n",
    "    return model\n",
    "# test does not pass with embedding on bd model\n",
    "if not model_uses_embedding:\n",
    "    tests.test_bd_model(bd_model)\n",
    "# TODO: Reshape the input\n",
    "tmp_x = pad(preproc_english_sentences, max_french_sequence_length)\n",
    "# when imbedding is used, no new axis needs added to input, since embedding adds new axis\n",
    "if not model_uses_embedding:\n",
    "    tmp_x = tmp_x[:,:,np.newaxis]\n",
    "print(tmp_x.shape)\n",
    "# prepare model for training\n",
    "bd_model = bd_model(\n",
    "    tmp_x.shape,\n",
    "    max_french_sequence_length,\n",
    "    english_vocab_size + 1,\n",
    "    french_vocab_size + 1)\n",
    "print(bd_model.summary())\n"
   ]
  },
  {
   "cell_type": "code",
   "execution_count": 42,
   "metadata": {},
   "outputs": [
    {
     "name": "stdout",
     "output_type": "stream",
     "text": [
      "Train on 110288 samples, validate on 27573 samples\n",
      "Epoch 1/10\n",
      "110288/110288 [==============================] - 37s 333us/step - loss: 1.6738 - acc: 0.5846 - val_loss: 1.1982 - val_acc: 0.6494\n",
      "Epoch 2/10\n",
      "110288/110288 [==============================] - 33s 303us/step - loss: 1.1450 - acc: 0.6558 - val_loss: 1.0142 - val_acc: 0.6829\n",
      "Epoch 3/10\n",
      "110288/110288 [==============================] - 33s 304us/step - loss: 1.0138 - acc: 0.6806 - val_loss: 0.9251 - val_acc: 0.7001\n",
      "Epoch 4/10\n",
      "110288/110288 [==============================] - 33s 303us/step - loss: 0.9430 - acc: 0.6922 - val_loss: 0.8628 - val_acc: 0.7102\n",
      "Epoch 5/10\n",
      "110288/110288 [==============================] - 33s 304us/step - loss: 0.8793 - acc: 0.7044 - val_loss: 0.7991 - val_acc: 0.7199\n",
      "Epoch 6/10\n",
      "110288/110288 [==============================] - 33s 304us/step - loss: 0.8399 - acc: 0.7120 - val_loss: 0.7715 - val_acc: 0.7332\n",
      "Epoch 7/10\n",
      "110288/110288 [==============================] - 34s 305us/step - loss: 0.7791 - acc: 0.7327 - val_loss: 0.6983 - val_acc: 0.7587\n",
      "Epoch 8/10\n",
      "110288/110288 [==============================] - 33s 303us/step - loss: 0.7278 - acc: 0.7520 - val_loss: 0.6283 - val_acc: 0.7923\n",
      "Epoch 9/10\n",
      "110288/110288 [==============================] - 34s 304us/step - loss: 0.7355 - acc: 0.7484 - val_loss: 0.6255 - val_acc: 0.7916\n",
      "Epoch 10/10\n",
      "110288/110288 [==============================] - 33s 304us/step - loss: 0.6805 - acc: 0.7693 - val_loss: 0.6987 - val_acc: 0.7572\n",
      "no embedding\n",
      "new jersey is sometimes quiet during autumn and it is snowy in april <PAD> <PAD> <PAD> <PAD> <PAD> <PAD> <PAD> <PAD>\n",
      "new jersey est relaxant calme en mois de mars et il est est en <PAD> <PAD> <PAD> <PAD> <PAD> <PAD> <PAD>\n"
     ]
    }
   ],
   "source": [
    "# TODO: Train and Print prediction(s)\n",
    "from workspace_utils import active_session\n",
    "with active_session():\n",
    "    bd_model.fit(tmp_x, preproc_french_sentences, batch_size=1024, epochs=10, validation_split=0.2)\n",
    "# TODO: Print prediction(s)\n",
    "word_lookup = {idx: w for w, idx in english_tokenizer.word_index.items()}\n",
    "word_lookup.update({0: '<PAD>'})\n",
    "if model_uses_embedding:\n",
    "    print(\"model with embedding\")\n",
    "    print(' '.join([word_lookup[i] for i in tmp_x[:1][0]]))\n",
    "else:\n",
    "    print(\"no embedding\")\n",
    "    print(' '.join([word_lookup[i[0]] for i in tmp_x[:1][0]]))\n",
    "print(logits_to_text(bd_model.predict(tmp_x[:1])[0], french_tokenizer))\n",
    "      "
   ]
  },
  {
   "cell_type": "code",
   "execution_count": 40,
   "metadata": {},
   "outputs": [
    {
     "name": "stdout",
     "output_type": "stream",
     "text": [
      "Train on 110288 samples, validate on 27573 samples\n",
      "Epoch 1/10\n",
      "110288/110288 [==============================] - 48s 436us/step - loss: 0.0583 - acc: 0.9815 - val_loss: 0.0656 - val_acc: 0.9807\n",
      "Epoch 2/10\n",
      "110288/110288 [==============================] - 48s 438us/step - loss: 0.0502 - acc: 0.9838 - val_loss: 0.0666 - val_acc: 0.9809\n",
      "Epoch 3/10\n",
      "110288/110288 [==============================] - 48s 439us/step - loss: 0.0453 - acc: 0.9852 - val_loss: 0.0641 - val_acc: 0.9821\n",
      "Epoch 4/10\n",
      "110288/110288 [==============================] - 48s 439us/step - loss: 0.0424 - acc: 0.9861 - val_loss: 0.0636 - val_acc: 0.9820\n",
      "Epoch 5/10\n",
      "110288/110288 [==============================] - 49s 442us/step - loss: 0.0402 - acc: 0.9869 - val_loss: 0.0641 - val_acc: 0.9828\n",
      "Epoch 6/10\n",
      "110288/110288 [==============================] - 48s 438us/step - loss: 0.0380 - acc: 0.9875 - val_loss: 0.0651 - val_acc: 0.9826\n",
      "Epoch 7/10\n",
      "110288/110288 [==============================] - 48s 439us/step - loss: 0.0465 - acc: 0.9854 - val_loss: 0.0727 - val_acc: 0.9797\n",
      "Epoch 8/10\n",
      "110288/110288 [==============================] - 48s 439us/step - loss: 0.0490 - acc: 0.9844 - val_loss: 0.0673 - val_acc: 0.9819\n",
      "Epoch 9/10\n",
      "110288/110288 [==============================] - 48s 439us/step - loss: 0.0375 - acc: 0.9878 - val_loss: 0.0649 - val_acc: 0.9833\n",
      "Epoch 10/10\n",
      "110288/110288 [==============================] - 48s 439us/step - loss: 0.0328 - acc: 0.9893 - val_loss: 0.0639 - val_acc: 0.9839\n",
      "model with embedding\n",
      "new jersey is sometimes quiet during autumn and it is snowy in april <PAD> <PAD> <PAD> <PAD> <PAD> <PAD> <PAD> <PAD>\n",
      "new jersey est parfois calme pendant l' automne et il est neigeux en avril <PAD> <PAD> <PAD> <PAD> <PAD> <PAD> <PAD>\n"
     ]
    }
   ],
   "source": [
    "              "
   ]
  },
  {
   "cell_type": "code",
   "execution_count": null,
   "metadata": {},
   "outputs": [],
   "source": []
  },
  {
   "cell_type": "markdown",
   "metadata": {},
   "source": [
    "### Model 4: Encoder-Decoder (IMPLEMENTATION)\n",
    "Time to look at encoder-decoder models.  This model is made up of an encoder and decoder. The encoder creates a matrix representation of the sentence.  The decoder takes this matrix as input and predicts the translation as output.\n",
    "\n",
    "Create an encoder-decoder model in the cell below."
   ]
  },
  {
   "cell_type": "markdown",
   "metadata": {},
   "source": [
    "my Encoder - Decoder implementation is following explanation and adapting some code from https://blog.keras.io/a-ten-minute-introduction-to-sequence-to-sequence-learning-in-keras.html)"
   ]
  },
  {
   "cell_type": "code",
   "execution_count": 18,
   "metadata": {},
   "outputs": [
    {
     "ename": "ValueError",
     "evalue": "Input 0 is incompatible with layer gru_3: expected ndim=3, found ndim=4",
     "output_type": "error",
     "traceback": [
      "\u001b[0;31m---------------------------------------------------------------------------\u001b[0m",
      "\u001b[0;31mValueError\u001b[0m                                Traceback (most recent call last)",
      "\u001b[0;32m<ipython-input-18-8f203580bf18>\u001b[0m in \u001b[0;36m<module>\u001b[0;34m()\u001b[0m\n\u001b[1;32m     41\u001b[0m     \u001b[0;32mreturn\u001b[0m \u001b[0mfull_model\u001b[0m\u001b[0;34m,\u001b[0m \u001b[0mencoder\u001b[0m\u001b[0;34m,\u001b[0m \u001b[0mdecoder_embedding\u001b[0m\u001b[0;34m,\u001b[0m \u001b[0mdecoder\u001b[0m\u001b[0;34m,\u001b[0m \u001b[0mlogit\u001b[0m\u001b[0;34m\u001b[0m\u001b[0m\n\u001b[1;32m     42\u001b[0m \u001b[0;34m\u001b[0m\u001b[0m\n\u001b[0;32m---> 43\u001b[0;31m \u001b[0mtests\u001b[0m\u001b[0;34m.\u001b[0m\u001b[0mtest_encdec_model\u001b[0m\u001b[0;34m(\u001b[0m\u001b[0mencdec_model\u001b[0m\u001b[0;34m)\u001b[0m\u001b[0;34m\u001b[0m\u001b[0m\n\u001b[0m",
      "\u001b[0;32m/home/workspace/project_tests.py\u001b[0m in \u001b[0;36mtest_encdec_model\u001b[0;34m(encdec_model)\u001b[0m\n\u001b[1;32m     80\u001b[0m     \u001b[0mfrench_vocab_size\u001b[0m \u001b[0;34m=\u001b[0m \u001b[0;36m344\u001b[0m\u001b[0;34m\u001b[0m\u001b[0m\n\u001b[1;32m     81\u001b[0m \u001b[0;34m\u001b[0m\u001b[0m\n\u001b[0;32m---> 82\u001b[0;31m     \u001b[0mmodel\u001b[0m \u001b[0;34m=\u001b[0m \u001b[0mencdec_model\u001b[0m\u001b[0;34m(\u001b[0m\u001b[0minput_shape\u001b[0m\u001b[0;34m,\u001b[0m \u001b[0moutput_sequence_length\u001b[0m\u001b[0;34m,\u001b[0m \u001b[0menglish_vocab_size\u001b[0m\u001b[0;34m,\u001b[0m \u001b[0mfrench_vocab_size\u001b[0m\u001b[0;34m)\u001b[0m\u001b[0;34m\u001b[0m\u001b[0m\n\u001b[0m\u001b[1;32m     83\u001b[0m     \u001b[0m_test_model\u001b[0m\u001b[0;34m(\u001b[0m\u001b[0mmodel\u001b[0m\u001b[0;34m,\u001b[0m \u001b[0minput_shape\u001b[0m\u001b[0;34m,\u001b[0m \u001b[0moutput_sequence_length\u001b[0m\u001b[0;34m,\u001b[0m \u001b[0mfrench_vocab_size\u001b[0m\u001b[0;34m)\u001b[0m\u001b[0;34m\u001b[0m\u001b[0m\n\u001b[1;32m     84\u001b[0m \u001b[0;34m\u001b[0m\u001b[0m\n",
      "\u001b[0;32m<ipython-input-18-8f203580bf18>\u001b[0m in \u001b[0;36mencdec_model\u001b[0;34m(input_shape, output_sequence_length, english_vocab_size, french_vocab_size)\u001b[0m\n\u001b[1;32m     21\u001b[0m     \u001b[0memb_enc\u001b[0m \u001b[0;34m=\u001b[0m \u001b[0membedding_enc\u001b[0m\u001b[0;34m(\u001b[0m\u001b[0minputs_enc\u001b[0m\u001b[0;34m)\u001b[0m\u001b[0;34m\u001b[0m\u001b[0m\n\u001b[1;32m     22\u001b[0m     \u001b[0menc_gru\u001b[0m \u001b[0;34m=\u001b[0m \u001b[0mGRU\u001b[0m\u001b[0;34m(\u001b[0m\u001b[0mcontext_size\u001b[0m\u001b[0;34m,\u001b[0m \u001b[0mreturn_state\u001b[0m\u001b[0;34m=\u001b[0m\u001b[0;32mTrue\u001b[0m\u001b[0;34m,\u001b[0m \u001b[0munroll\u001b[0m\u001b[0;34m=\u001b[0m\u001b[0;32mFalse\u001b[0m\u001b[0;34m)\u001b[0m\u001b[0;34m\u001b[0m\u001b[0m\n\u001b[0;32m---> 23\u001b[0;31m     \u001b[0menc_out\u001b[0m\u001b[0;34m,\u001b[0m \u001b[0mcontext\u001b[0m \u001b[0;34m=\u001b[0m \u001b[0menc_gru\u001b[0m\u001b[0;34m(\u001b[0m\u001b[0memb_enc\u001b[0m\u001b[0;34m)\u001b[0m\u001b[0;34m\u001b[0m\u001b[0m\n\u001b[0m\u001b[1;32m     24\u001b[0m     \u001b[0;31m# DECODER\u001b[0m\u001b[0;34m\u001b[0m\u001b[0;34m\u001b[0m\u001b[0m\n\u001b[1;32m     25\u001b[0m     \u001b[0membedding_dec\u001b[0m \u001b[0;34m=\u001b[0m \u001b[0mEmbedding\u001b[0m\u001b[0;34m(\u001b[0m\u001b[0mfrench_vocab_size\u001b[0m\u001b[0;34m+\u001b[0m\u001b[0;36m1\u001b[0m\u001b[0;34m,\u001b[0m \u001b[0membedding_size\u001b[0m\u001b[0;34m)\u001b[0m\u001b[0;34m\u001b[0m\u001b[0m\n",
      "\u001b[0;32m/opt/conda/lib/python3.6/site-packages/keras/layers/recurrent.py\u001b[0m in \u001b[0;36m__call__\u001b[0;34m(self, inputs, initial_state, constants, **kwargs)\u001b[0m\n\u001b[1;32m    481\u001b[0m \u001b[0;34m\u001b[0m\u001b[0m\n\u001b[1;32m    482\u001b[0m         \u001b[0;32mif\u001b[0m \u001b[0minitial_state\u001b[0m \u001b[0;32mis\u001b[0m \u001b[0;32mNone\u001b[0m \u001b[0;32mand\u001b[0m \u001b[0mconstants\u001b[0m \u001b[0;32mis\u001b[0m \u001b[0;32mNone\u001b[0m\u001b[0;34m:\u001b[0m\u001b[0;34m\u001b[0m\u001b[0m\n\u001b[0;32m--> 483\u001b[0;31m             \u001b[0;32mreturn\u001b[0m \u001b[0msuper\u001b[0m\u001b[0;34m(\u001b[0m\u001b[0mRNN\u001b[0m\u001b[0;34m,\u001b[0m \u001b[0mself\u001b[0m\u001b[0;34m)\u001b[0m\u001b[0;34m.\u001b[0m\u001b[0m__call__\u001b[0m\u001b[0;34m(\u001b[0m\u001b[0minputs\u001b[0m\u001b[0;34m,\u001b[0m \u001b[0;34m**\u001b[0m\u001b[0mkwargs\u001b[0m\u001b[0;34m)\u001b[0m\u001b[0;34m\u001b[0m\u001b[0m\n\u001b[0m\u001b[1;32m    484\u001b[0m \u001b[0;34m\u001b[0m\u001b[0m\n\u001b[1;32m    485\u001b[0m         \u001b[0;31m# If any of `initial_state` or `constants` are specified and are Keras\u001b[0m\u001b[0;34m\u001b[0m\u001b[0;34m\u001b[0m\u001b[0m\n",
      "\u001b[0;32m/opt/conda/lib/python3.6/site-packages/keras/engine/topology.py\u001b[0m in \u001b[0;36m__call__\u001b[0;34m(self, inputs, **kwargs)\u001b[0m\n\u001b[1;32m    557\u001b[0m                 \u001b[0;31m# Raise exceptions in case the input is not compatible\u001b[0m\u001b[0;34m\u001b[0m\u001b[0;34m\u001b[0m\u001b[0m\n\u001b[1;32m    558\u001b[0m                 \u001b[0;31m# with the input_spec specified in the layer constructor.\u001b[0m\u001b[0;34m\u001b[0m\u001b[0;34m\u001b[0m\u001b[0m\n\u001b[0;32m--> 559\u001b[0;31m                 \u001b[0mself\u001b[0m\u001b[0;34m.\u001b[0m\u001b[0massert_input_compatibility\u001b[0m\u001b[0;34m(\u001b[0m\u001b[0minputs\u001b[0m\u001b[0;34m)\u001b[0m\u001b[0;34m\u001b[0m\u001b[0m\n\u001b[0m\u001b[1;32m    560\u001b[0m \u001b[0;34m\u001b[0m\u001b[0m\n\u001b[1;32m    561\u001b[0m                 \u001b[0;31m# Collect input shapes to build layer.\u001b[0m\u001b[0;34m\u001b[0m\u001b[0;34m\u001b[0m\u001b[0m\n",
      "\u001b[0;32m/opt/conda/lib/python3.6/site-packages/keras/engine/topology.py\u001b[0m in \u001b[0;36massert_input_compatibility\u001b[0;34m(self, inputs)\u001b[0m\n\u001b[1;32m    456\u001b[0m                                      \u001b[0mself\u001b[0m\u001b[0;34m.\u001b[0m\u001b[0mname\u001b[0m \u001b[0;34m+\u001b[0m \u001b[0;34m': expected ndim='\u001b[0m \u001b[0;34m+\u001b[0m\u001b[0;34m\u001b[0m\u001b[0m\n\u001b[1;32m    457\u001b[0m                                      \u001b[0mstr\u001b[0m\u001b[0;34m(\u001b[0m\u001b[0mspec\u001b[0m\u001b[0;34m.\u001b[0m\u001b[0mndim\u001b[0m\u001b[0;34m)\u001b[0m \u001b[0;34m+\u001b[0m \u001b[0;34m', found ndim='\u001b[0m \u001b[0;34m+\u001b[0m\u001b[0;34m\u001b[0m\u001b[0m\n\u001b[0;32m--> 458\u001b[0;31m                                      str(K.ndim(x)))\n\u001b[0m\u001b[1;32m    459\u001b[0m             \u001b[0;32mif\u001b[0m \u001b[0mspec\u001b[0m\u001b[0;34m.\u001b[0m\u001b[0mmax_ndim\u001b[0m \u001b[0;32mis\u001b[0m \u001b[0;32mnot\u001b[0m \u001b[0;32mNone\u001b[0m\u001b[0;34m:\u001b[0m\u001b[0;34m\u001b[0m\u001b[0m\n\u001b[1;32m    460\u001b[0m                 \u001b[0mndim\u001b[0m \u001b[0;34m=\u001b[0m \u001b[0mK\u001b[0m\u001b[0;34m.\u001b[0m\u001b[0mndim\u001b[0m\u001b[0;34m(\u001b[0m\u001b[0mx\u001b[0m\u001b[0;34m)\u001b[0m\u001b[0;34m\u001b[0m\u001b[0m\n",
      "\u001b[0;31mValueError\u001b[0m: Input 0 is incompatible with layer gru_3: expected ndim=3, found ndim=4"
     ]
    }
   ],
   "source": [
    "\n",
    "embedding_size = 2**9 \n",
    "context_size = 2**9\n",
    "\n",
    "def encdec_model(input_shape, output_sequence_length, english_vocab_size, french_vocab_size):\n",
    "    \"\"\"\n",
    "    Build and train an encoder-decoder model on x and y\n",
    "    :param input_shape: Tuple of input shape\n",
    "    :param output_sequence_length: Length of output sequence\n",
    "    :param english_vocab_size: Number of unique English words in the dataset\n",
    "    :param french_vocab_size: Number of unique French words in the dataset\n",
    "    :return: Keras model built, but not trained\n",
    "    \"\"\"\n",
    "    # TODO: Implement\n",
    "    learning_rate = 2.5e-3\n",
    "    # inputs of encoder (english sentences) and decoder (french sentences)\n",
    "    inputs_enc = Input(shape=input_shape[1:])\n",
    "    inputs_dec = Input(shape=input_shape[1:])\n",
    "    # ENCODER \n",
    "    embedding_enc = Embedding(english_vocab_size, embedding_size)\n",
    "    emb_enc = embedding_enc(inputs_enc)\n",
    "    enc_gru = GRU(context_size, return_state=True, unroll=False)\n",
    "    enc_out, context = enc_gru(emb_enc)\n",
    "    # DECODER \n",
    "    embedding_dec = Embedding(french_vocab_size+1, embedding_size)\n",
    "    emb_dec = embedding_dec(inputs_dec)\n",
    "    decoder = GRU(context_size, return_sequences=True, return_state=True, unroll=False)\n",
    "    dec_seq_out, dec_state = decoder(emb_dec, initial_state=context)\n",
    "    logit = Dense(french_vocab_size, activation='softmax')\n",
    "    outputs = TimeDistributed(logit)(dec_seq_out)\n",
    "    # create full model and sub-components needed for inference\n",
    "    full_model = Model([inputs_enc, inputs_dec], outputs)\n",
    "    encoder = Model(inputs_enc, context)\n",
    "    decoder_embedding = Model(inputs_dec, emb_dec)\n",
    "    \n",
    "    full_model.compile(loss=sparse_categorical_crossentropy,\n",
    "                  optimizer=Adam(learning_rate),\n",
    "                  metrics=['accuracy'])\n",
    "\n",
    "    \n",
    "    return full_model, encoder, decoder_embedding, decoder, logit\n",
    "\n",
    "tests.test_encdec_model(encdec_model)"
   ]
  },
  {
   "cell_type": "code",
   "execution_count": 36,
   "metadata": {},
   "outputs": [],
   "source": []
  },
  {
   "cell_type": "code",
   "execution_count": 13,
   "metadata": {},
   "outputs": [
    {
     "name": "stdout",
     "output_type": "stream",
     "text": [
      "(137861, 22)\n",
      "(137861, 22)\n",
      "__________________________________________________________________________________________________\n",
      "Layer (type)                    Output Shape         Param #     Connected to                     \n",
      "==================================================================================================\n",
      "input_1 (InputLayer)            (None, 22)           0                                            \n",
      "__________________________________________________________________________________________________\n",
      "input_2 (InputLayer)            (None, 22)           0                                            \n",
      "__________________________________________________________________________________________________\n",
      "embedding_1 (Embedding)         (None, 22, 512)      102400      input_1[0][0]                    \n",
      "__________________________________________________________________________________________________\n",
      "embedding_2 (Embedding)         (None, 22, 512)      177152      input_2[0][0]                    \n",
      "__________________________________________________________________________________________________\n",
      "gru_1 (GRU)                     [(None, 512), (None, 1574400     embedding_1[0][0]                \n",
      "__________________________________________________________________________________________________\n",
      "gru_2 (GRU)                     [(None, 22, 512), (N 1574400     embedding_2[0][0]                \n",
      "                                                                 gru_1[0][1]                      \n",
      "__________________________________________________________________________________________________\n",
      "time_distributed_1 (TimeDistrib (None, 22, 345)      176985      gru_2[0][0]                      \n",
      "==================================================================================================\n",
      "Total params: 3,605,337\n",
      "Trainable params: 3,605,337\n",
      "Non-trainable params: 0\n",
      "__________________________________________________________________________________________________\n",
      "None\n"
     ]
    }
   ],
   "source": [
    "# PREPARE INPUT\n",
    "# decoder input are also the labels sequences with additional <GO> as first token\n",
    "# set <GO> to id = french_vocab_size+1 \n",
    "offset_french_sentences = np.hstack((np.repeat(french_vocab_size+1,preproc_french_sentences.shape[0])[:, np.newaxis], \n",
    "                                     preproc_french_sentences[:,:,0]))\n",
    "print(offset_french_sentences.shape)\n",
    "# update other date with extended label sequences\n",
    "max_french_sequence_length = offset_french_sentences.shape[1]\n",
    "# input and lable sequences to be padded to fit extended seq length\n",
    "target_french_sentences = pad(preproc_french_sentences, max_french_sequence_length)\n",
    "tmp_x = pad(preproc_english_sentences, max_french_sequence_length)\n",
    "print(tmp_x.shape)\n",
    "\n",
    "# CREATE MODEL INSTANCE\n",
    "(encdec_model,\n",
    " encoder,\n",
    " decoder_embedding, \n",
    " decoder, \n",
    " logit) = encdec_model(\n",
    "    tmp_x.shape,\n",
    "    max_french_sequence_length,\n",
    "    english_vocab_size + 1,\n",
    "    french_vocab_size + 1)\n",
    "print(encdec_model.summary())"
   ]
  },
  {
   "cell_type": "code",
   "execution_count": 17,
   "metadata": {},
   "outputs": [
    {
     "name": "stdout",
     "output_type": "stream",
     "text": [
      "Train on 110288 samples, validate on 27573 samples\n",
      "Epoch 1/10\n",
      "110288/110288 [==============================] - 48s 432us/step - loss: 0.0270 - acc: 0.9924 - val_loss: 0.0262 - val_acc: 0.9930\n",
      "Epoch 2/10\n",
      "110288/110288 [==============================] - 48s 434us/step - loss: 0.0219 - acc: 0.9939 - val_loss: 0.0232 - val_acc: 0.9936\n",
      "Epoch 3/10\n",
      "110288/110288 [==============================] - 48s 435us/step - loss: 0.0186 - acc: 0.9949 - val_loss: 0.0207 - val_acc: 0.9945\n",
      "Epoch 4/10\n",
      "110288/110288 [==============================] - 48s 435us/step - loss: 0.0160 - acc: 0.9957 - val_loss: 0.0183 - val_acc: 0.9949\n",
      "Epoch 5/10\n",
      "110288/110288 [==============================] - 48s 434us/step - loss: 0.0136 - acc: 0.9964 - val_loss: 0.0166 - val_acc: 0.9954\n",
      "Epoch 6/10\n",
      "110288/110288 [==============================] - 48s 437us/step - loss: 0.0124 - acc: 0.9967 - val_loss: 0.0148 - val_acc: 0.9961\n",
      "Epoch 7/10\n",
      "110288/110288 [==============================] - 48s 434us/step - loss: 0.0108 - acc: 0.9971 - val_loss: 0.0142 - val_acc: 0.9962\n",
      "Epoch 8/10\n",
      "110288/110288 [==============================] - 48s 435us/step - loss: 0.0097 - acc: 0.9975 - val_loss: 0.0138 - val_acc: 0.9963\n",
      "Epoch 9/10\n",
      "110288/110288 [==============================] - 48s 435us/step - loss: 0.0089 - acc: 0.9977 - val_loss: 0.0130 - val_acc: 0.9965\n",
      "Epoch 10/10\n",
      "110288/110288 [==============================] - 48s 435us/step - loss: 0.0083 - acc: 0.9978 - val_loss: 0.1612 - val_acc: 0.9773\n"
     ]
    }
   ],
   "source": [
    "# TODO: Train and Print prediction(s)\n",
    "\n",
    "training_input = [tmp_x, offset_french_sentences]\n",
    "\n",
    "from workspace_utils import active_session\n",
    "with active_session():\n",
    "    encdec_model.fit(training_input, target_french_sentences, batch_size=1024, epochs=10, validation_split=0.2)\n"
   ]
  },
  {
   "cell_type": "markdown",
   "metadata": {},
   "source": [
    "#### INFERENCE  \n",
    "for inference the model components have to be rearranged and predict word by word, where the prediction at step t is input to the decoder in step t + 1\n",
    "(following explanation and adapting code from https://blog.keras.io/a-ten-minute-introduction-to-sequence-to-sequence-learning-in-keras.html)"
   ]
  },
  {
   "cell_type": "code",
   "execution_count": null,
   "metadata": {},
   "outputs": [],
   "source": []
  },
  {
   "cell_type": "code",
   "execution_count": null,
   "metadata": {},
   "outputs": [],
   "source": []
  },
  {
   "cell_type": "code",
   "execution_count": null,
   "metadata": {},
   "outputs": [],
   "source": [
    "# REARRANGE the MODEL for INFERENCE\n",
    "\n",
    "context = Input(shape=(context_size, ))\n",
    "emb_input = Input(shape=(1,))\n",
    "\n",
    "emb_dec = decoder_embedding(emb_input)\n",
    "dec_out, decoder_state = decoder(emb_dec, initial_state=context)\n",
    "decoder_output = logit(dec_out)\n",
    "decoder_model = Model([emb_input, context], [decoder_output, decoder_state])"
   ]
  },
  {
   "cell_type": "code",
   "execution_count": null,
   "metadata": {},
   "outputs": [],
   "source": [
    "# FUNCTION TO RUN REARRANGED MODEL STEP BY STEP TO PREDICT OUTPUT SEQUENCE\n",
    "def decode_sequence(input_seq):\n",
    "    # Encode the input as state vectors.\n",
    "    states_value = encoder.predict(input_seq)\n",
    "\n",
    "    # First 'predicted' token is set to <GO>\n",
    "    target_seq = np.zeros((1, 1))\n",
    "    target_seq[0, 0] = french_vocab_size+1\n",
    "\n",
    "    # Sampling loop for a sequence\n",
    "    stop_condition = False\n",
    "    decoded_sentence = []\n",
    "    while not stop_condition:\n",
    "        # predict tokes for output sequence one by one\n",
    "        output_tokens, dec_state = decoder_model.predict(\n",
    "            [target_seq, states_value])\n",
    "        decoded_sentence.append(output_tokens)\n",
    "        # Sample a token\n",
    "        sampled_token_index = np.argmax(output_tokens[0, -1, :])\n",
    "    \n",
    "        # Exit condition\n",
    "        if len(decoded_sentence) >= max_french_sequence_length:\n",
    "            stop_condition = True\n",
    "\n",
    "        # reshape predicted token for input to next prediction step\n",
    "        target_seq = np.zeros((1, 1))\n",
    "        target_seq[0, 0] = sampled_token_index\n",
    "\n",
    "        # Update states\n",
    "        states_value = dec_state\n",
    "\n",
    "    return decoded_sentence"
   ]
  },
  {
   "cell_type": "code",
   "execution_count": 22,
   "metadata": {},
   "outputs": [],
   "source": [
    "# ADJUSTED LOGIT TO TEXT WITH additional <GO> token\n",
    "def encdec_logits_to_text(logits_list, tokenizer):\n",
    "    \"\"\"\n",
    "    Turn logits from a neural network into text using the tokenizer\n",
    "    :param logits: Logits from a neural network\n",
    "    :param tokenizer: Keras Tokenizer fit on the labels\n",
    "    :return: String that represents the text of the logits\n",
    "    \"\"\"\n",
    "    index_to_words = {idx: word for word, idx in tokenizer.word_index.items()}\n",
    "    index_to_words[0] = '<PAD>'\n",
    "    index_to_words[max(index_to_words)+1] = '<GO>'\n",
    "\n",
    "    return ' '.join([index_to_words[np.argmax(prediction)] for prediction in logits_list])\n",
    "\n",
    "print('`encdec_logits_to_text` function loaded.')"
   ]
  },
  {
   "cell_type": "code",
   "execution_count": null,
   "metadata": {},
   "outputs": [],
   "source": []
  },
  {
   "cell_type": "code",
   "execution_count": 23,
   "metadata": {},
   "outputs": [
    {
     "name": "stdout",
     "output_type": "stream",
     "text": [
      "new jersey is sometimes quiet during autumn and it is snowy in april <PAD> <PAD> <PAD> <PAD> <PAD> <PAD> <PAD> <PAD> <PAD>\n",
      "new jersey est parfois calme pendant l' automne et il est neigeux en avril <PAD> <PAD> <PAD> <PAD> <PAD> <PAD> <PAD> <PAD>\n"
     ]
    }
   ],
   "source": [
    "# USE THE INFERENCE MODEL TO TRANSLATE \n",
    "\n",
    "predicted = decode_sequence(tmp_x[:1])\n",
    "word_lookup = {idx: w for w, idx in english_tokenizer.word_index.items()}\n",
    "word_lookup.update({0: '<PAD>'})\n",
    "print(' '.join([word_lookup[i] for i in tmp_x[:1][0]]))\n",
    "print(encdec_logits_to_text(predicted, french_tokenizer))"
   ]
  },
  {
   "cell_type": "code",
   "execution_count": null,
   "metadata": {},
   "outputs": [],
   "source": []
  },
  {
   "cell_type": "markdown",
   "metadata": {},
   "source": [
    "### Model 5: Custom (IMPLEMENTATION)\n",
    "Use everything you learned from the previous models to create a model that incorporates embedding and a bidirectional rnn into one model."
   ]
  },
  {
   "cell_type": "code",
   "execution_count": null,
   "metadata": {},
   "outputs": [],
   "source": [
    "def model_final(input_shape, output_sequence_length, english_vocab_size, french_vocab_size):\n",
    "    \"\"\"\n",
    "    Build and train a model that incorporates embedding, encoder-decoder, and bidirectional RNN on x and y\n",
    "    :param input_shape: Tuple of input shape\n",
    "    :param output_sequence_length: Length of output sequence\n",
    "    :param english_vocab_size: Number of unique English words in the dataset\n",
    "    :param french_vocab_size: Number of unique French words in the dataset\n",
    "    :return: Keras model built, but not trained\n",
    "    \"\"\"\n",
    "    # TODO: Implement\n",
    "    learning_rate = 2.5e-3\n",
    "    # inputs of encoder (english sentences) and decoder (french sentences)\n",
    "    inputs_enc = Input(shape=input_shape[1:])\n",
    "    inputs_dec = Input(shape=input_shape[1:])\n",
    "    # ENCODER \n",
    "    embedding_enc = Embedding(english_vocab_size, embedding_size)\n",
    "    emb_enc = embedding_enc(inputs_enc)\n",
    "    enc_gru = GRU(context_size, return_state=True, unroll=False)\n",
    "    enc_out, context = enc_gru(emb_enc)\n",
    "    # DECODER \n",
    "    embedding_dec = Embedding(french_vocab_size+1, embedding_size)\n",
    "    emb_dec = embedding_dec(inputs_dec)\n",
    "    decoder = GRU(context_size, return_sequences=True, return_state=True, unroll=False)\n",
    "    dec_seq_out, dec_state = decoder(emb_dec, initial_state=context)\n",
    "    logit = Dense(french_vocab_size, activation='softmax')\n",
    "    outputs = TimeDistributed(logit)(dec_seq_out)\n",
    "    # create full model and sub-components needed for inference\n",
    "    full_model = Model([inputs_enc, inputs_dec], outputs)\n",
    "    encoder = Model(inputs_enc, context)\n",
    "    decoder_embedding = Model(inputs_dec, emb_dec)\n",
    "    \n",
    "    full_model.compile(loss=sparse_categorical_crossentropy,\n",
    "                  optimizer=Adam(learning_rate),\n",
    "                  metrics=['accuracy'])\n",
    "\n",
    "    \n",
    "    return full_model, encoder, decoder_embedding, decoder, logit\n",
    "\n",
    "tests.test_model_final(model_final)\n",
    "print('Final Model Loaded')"
   ]
  },
  {
   "cell_type": "code",
   "execution_count": null,
   "metadata": {},
   "outputs": [],
   "source": [
    "# TODO: Train the final model"
   ]
  },
  {
   "cell_type": "markdown",
   "metadata": {},
   "source": [
    "## Prediction (IMPLEMENTATION)"
   ]
  },
  {
   "cell_type": "code",
   "execution_count": null,
   "metadata": {},
   "outputs": [],
   "source": [
    "def final_predictions(x, y, x_tk, y_tk):\n",
    "    \"\"\"\n",
    "    Gets predictions using the final model\n",
    "    :param x: Preprocessed English data\n",
    "    :param y: Preprocessed French data\n",
    "    :param x_tk: English tokenizer\n",
    "    :param y_tk: French tokenizer\n",
    "    \"\"\"\n",
    "    # TODO: Train neural network using model_final\n",
    "    model = None\n",
    "\n",
    "    \n",
    "    ## DON'T EDIT ANYTHING BELOW THIS LINE\n",
    "    y_id_to_word = {value: key for key, value in y_tk.word_index.items()}\n",
    "    y_id_to_word[0] = '<PAD>'\n",
    "\n",
    "    sentence = 'he saw a old yellow truck'\n",
    "    sentence = [x_tk.word_index[word] for word in sentence.split()]\n",
    "    sentence = pad_sequences([sentence], maxlen=x.shape[-1], padding='post')\n",
    "    sentences = np.array([sentence[0], x[0]])\n",
    "    predictions = model.predict(sentences, len(sentences))\n",
    "\n",
    "    print('Sample 1:')\n",
    "    print(' '.join([y_id_to_word[np.argmax(x)] for x in predictions[0]]))\n",
    "    print('Il a vu un vieux camion jaune')\n",
    "    print('Sample 2:')\n",
    "    print(' '.join([y_id_to_word[np.argmax(x)] for x in predictions[1]]))\n",
    "    print(' '.join([y_id_to_word[np.max(x)] for x in y[0]]))\n",
    "\n",
    "\n",
    "final_predictions(preproc_english_sentences, preproc_french_sentences, english_tokenizer, french_tokenizer)"
   ]
  },
  {
   "cell_type": "markdown",
   "metadata": {},
   "source": [
    "## Submission\n",
    "When you're ready to submit, complete the following steps:\n",
    "1. Review the rubric to ensure your submission meets all requirements to pass\n",
    "2. Generate an HTML version of this notebook\n",
    "\n",
    "  - Run the next cell to attempt automatic generation (this is the recommended method in Workspaces)\n",
    "  - Navigate to **FILE -> Download as -> HTML (.html)**\n",
    "  - Manually generate a copy using `nbconvert` from your shell terminal\n",
    "```\n",
    "$ pip install nbconvert\n",
    "$ python -m nbconvert machine_translation.ipynb\n",
    "```\n",
    "  \n",
    "3. Submit the project\n",
    "\n",
    "  - If you are in a Workspace, simply click the \"Submit Project\" button (bottom towards the right)\n",
    "  \n",
    "  - Otherwise, add the following files into a zip archive and submit them \n",
    "  - `helper.py`\n",
    "  - `machine_translation.ipynb`\n",
    "  - `machine_translation.html`\n",
    "    - You can export the notebook by navigating to **File -> Download as -> HTML (.html)**."
   ]
  },
  {
   "cell_type": "markdown",
   "metadata": {},
   "source": [
    "### Generate the html\n",
    "\n",
    "**Save your notebook before running the next cell to generate the HTML output.** Then submit your project."
   ]
  },
  {
   "cell_type": "code",
   "execution_count": 2,
   "metadata": {},
   "outputs": [
    {
     "data": {
      "text/plain": [
       "['[NbConvertApp] Converting notebook machine_translation.ipynb to html',\n",
       " '[NbConvertApp] Writing 305996 bytes to machine_translation.html']"
      ]
     },
     "execution_count": 2,
     "metadata": {},
     "output_type": "execute_result"
    }
   ],
   "source": [
    "# Save before you run this cell!\n",
    "!!jupyter nbconvert *.ipynb"
   ]
  },
  {
   "cell_type": "markdown",
   "metadata": {},
   "source": [
    "## Optional Enhancements\n",
    "\n",
    "This project focuses on learning various network architectures for machine translation, but we don't evaluate the models according to best practices by splitting the data into separate test & training sets -- so the model accuracy is overstated. Use the [`sklearn.model_selection.train_test_split()`](http://scikit-learn.org/stable/modules/generated/sklearn.model_selection.train_test_split.html) function to create separate training & test datasets, then retrain each of the models using only the training set and evaluate the prediction accuracy using the hold out test set. Does the \"best\" model change?"
   ]
  }
 ],
 "metadata": {
  "kernelspec": {
   "display_name": "Python 3",
   "language": "python",
   "name": "python3"
  },
  "language_info": {
   "codemirror_mode": {
    "name": "ipython",
    "version": 3
   },
   "file_extension": ".py",
   "mimetype": "text/x-python",
   "name": "python",
   "nbconvert_exporter": "python",
   "pygments_lexer": "ipython3",
   "version": "3.6.3"
  }
 },
 "nbformat": 4,
 "nbformat_minor": 1
}
